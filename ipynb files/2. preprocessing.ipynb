{
 "cells": [
  {
   "cell_type": "markdown",
   "metadata": {},
   "source": [
    "# Data Pre-Processing"
   ]
  },
  {
   "cell_type": "markdown",
   "metadata": {},
   "source": [
    "In this phase, we will clean up our data sets and perform some data pre-processing techniques before we proceed with the data analysis. This is to ensure that the quality input that we feed into our model which will result in a better classifier."
   ]
  },
  {
   "cell_type": "code",
   "execution_count": 1,
   "metadata": {},
   "outputs": [],
   "source": [
    "# import libraries\n",
    "import pandas as pd\n",
    "import nltk as nltk\n",
    "import itertools\n",
    "import string\n",
    "import matplotlib.pyplot as plt\n",
    "%matplotlib inline \n",
    "\n",
    "from nltk import word_tokenize\n",
    "from nltk.corpus import stopwords\n",
    "from nltk.stem import SnowballStemmer\n",
    "from nltk.tag import pos_tag_sents\n",
    "from nltk.corpus import wordnet\n",
    "from nltk.stem import WordNetLemmatizer\n",
    "from nltk.collocations import BigramCollocationFinder\n",
    "from nltk.metrics import BigramAssocMeasures\n",
    "from nltk import bigrams\n",
    "from nltk.classify import NaiveBayesClassifier\n",
    "from nltk.probability import FreqDist, ConditionalFreqDist\n",
    "\n",
    "# only need to download the following once\n",
    "# nltk.download('punkt') # to use word_tokenize\n",
    "# nltk.download('stopwords') # to use stopwords\n",
    "# nltk.download('averaged_perceptron_tagger') # to use pos tagger\n",
    "# nltk.download('wordnet') # to use wordnet pos tagger"
   ]
  },
  {
   "cell_type": "code",
   "execution_count": 2,
   "metadata": {},
   "outputs": [],
   "source": [
    "# loading data sets from .csv files into pandas data frame\n",
    "BG_df = pd.read_csv('..\\\\Dissertation_Code\\\\BG.csv', encoding='utf-8')\n",
    "\n",
    "# naming our data set for future functionality\n",
    "BG_df.name = 'BG_df'"
   ]
  },
  {
   "cell_type": "markdown",
   "metadata": {},
   "source": [
    "The first step of pre-processing is to create a new column which categorises the ratings into two sentiments, positive and negative. Ratings 1 and 2 will be categorised into negative sentiment, while ratings 4 and 5 will be categorsied into positive sentiment. Ratings 0 and 3 will be considered as neutral and therefore eliminated from our data sets. Before proceeding with the categorisation, we check how many percentages are the ratings 0 and 3 out of the whole data sets."
   ]
  },
  {
   "cell_type": "code",
   "execution_count": 3,
   "metadata": {},
   "outputs": [
    {
     "data": {
      "text/plain": [
       "'            Hive engineer failed to show twice after I had taken two days off work to get hive installed. British Gas employees wouldn’t give a monkeys,I suppose it’s the shareholders that are suffering . Because of the engineer not showing up twice I decided to cancel my boiler care and appliance cover with them as well as cancel this hive contract so a sum of about £110 a month lost. I will give my money to someone who wants it. Honestly you guys were great a few years back, but now you are mediocre at best. What the hell has happened to you.\\r\\n        '"
      ]
     },
     "execution_count": 3,
     "metadata": {},
     "output_type": "execute_result"
    }
   ],
   "source": [
    "# first review of BG_df before pre-processing\n",
    "BG_df['reviews'].loc[0]"
   ]
  },
  {
   "cell_type": "code",
   "execution_count": 4,
   "metadata": {},
   "outputs": [
    {
     "data": {
      "text/plain": [
       "1    1463\n",
       "5    1416\n",
       "4     409\n",
       "2     231\n",
       "3     197\n",
       "Name: rating, dtype: int64"
      ]
     },
     "execution_count": 4,
     "metadata": {},
     "output_type": "execute_result"
    }
   ],
   "source": [
    "# checking the frequency of each ratings for BG_df\n",
    "BG_df['rating'].value_counts()"
   ]
  },
  {
   "cell_type": "markdown",
   "metadata": {},
   "source": [
    "The percentage of entries with the values of 0 and 3 for BG_df is 5.30%. Removing these entries from our data sets, we are left with 3,519 reviews, acceptable numbers for further analysis."
   ]
  },
  {
   "cell_type": "code",
   "execution_count": 5,
   "metadata": {},
   "outputs": [],
   "source": [
    "# function to remove neutral entries and categorise into sentiments\n",
    "def categorise(df):\n",
    "    df.drop(df[df['rating'] == 0].index, inplace=True)\n",
    "    df.drop(df[df['rating'] == 3].index, inplace=True)\n",
    "    \n",
    "    df['sentiment'] = None # initialising column\n",
    "    df.loc[df['rating'] >= 4.0, 'sentiment'] = 'Positive'\n",
    "    df.loc[df['rating'] <= 2.0, 'sentiment'] = 'Negative'"
   ]
  },
  {
   "cell_type": "code",
   "execution_count": 6,
   "metadata": {},
   "outputs": [
    {
     "data": {
      "text/plain": [
       "1    1463\n",
       "5    1416\n",
       "4     409\n",
       "2     231\n",
       "Name: rating, dtype: int64"
      ]
     },
     "execution_count": 6,
     "metadata": {},
     "output_type": "execute_result"
    }
   ],
   "source": [
    "# using the categorise function and checking the frequency again\n",
    "categorise(BG_df)\n",
    "BG_df['rating'].value_counts()"
   ]
  },
  {
   "cell_type": "code",
   "execution_count": 7,
   "metadata": {},
   "outputs": [
    {
     "data": {
      "text/plain": [
       "Positive    1825\n",
       "Negative    1694\n",
       "Name: sentiment, dtype: int64"
      ]
     },
     "execution_count": 7,
     "metadata": {},
     "output_type": "execute_result"
    }
   ],
   "source": [
    "# checking the frequency of positive and negative sentiment\n",
    "BG_df['sentiment'].value_counts()"
   ]
  },
  {
   "cell_type": "code",
   "execution_count": 8,
   "metadata": {},
   "outputs": [
    {
     "data": {
      "text/html": [
       "<div>\n",
       "<style scoped>\n",
       "    .dataframe tbody tr th:only-of-type {\n",
       "        vertical-align: middle;\n",
       "    }\n",
       "\n",
       "    .dataframe tbody tr th {\n",
       "        vertical-align: top;\n",
       "    }\n",
       "\n",
       "    .dataframe thead th {\n",
       "        text-align: right;\n",
       "    }\n",
       "</style>\n",
       "<table border=\"1\" class=\"dataframe\">\n",
       "  <thead>\n",
       "    <tr style=\"text-align: right;\">\n",
       "      <th></th>\n",
       "      <th>rating</th>\n",
       "      <th>reviews</th>\n",
       "      <th>date</th>\n",
       "      <th>sentiment</th>\n",
       "    </tr>\n",
       "  </thead>\n",
       "  <tbody>\n",
       "    <tr>\n",
       "      <th>0</th>\n",
       "      <td>1</td>\n",
       "      <td>Hive engineer failed to show twice...</td>\n",
       "      <td>2018-07-09T17:56:48.000+00:00</td>\n",
       "      <td>Negative</td>\n",
       "    </tr>\n",
       "    <tr>\n",
       "      <th>1</th>\n",
       "      <td>1</td>\n",
       "      <td>I moved from SSE to British Gas be...</td>\n",
       "      <td>2018-07-09T09:38:39.000+00:00</td>\n",
       "      <td>Negative</td>\n",
       "    </tr>\n",
       "    <tr>\n",
       "      <th>2</th>\n",
       "      <td>1</td>\n",
       "      <td>There engineers  were rude and sur...</td>\n",
       "      <td>2018-07-09T07:17:10.000+00:00</td>\n",
       "      <td>Negative</td>\n",
       "    </tr>\n",
       "    <tr>\n",
       "      <th>3</th>\n",
       "      <td>1</td>\n",
       "      <td>Firstly the App never works and th...</td>\n",
       "      <td>2018-07-06T15:09:05.000+00:00</td>\n",
       "      <td>Negative</td>\n",
       "    </tr>\n",
       "    <tr>\n",
       "      <th>4</th>\n",
       "      <td>1</td>\n",
       "      <td>Conned me left right and centre. B...</td>\n",
       "      <td>2018-07-05T15:02:28.000+00:00</td>\n",
       "      <td>Negative</td>\n",
       "    </tr>\n",
       "  </tbody>\n",
       "</table>\n",
       "</div>"
      ],
      "text/plain": [
       "   rating                                            reviews  \\\n",
       "0       1              Hive engineer failed to show twice...   \n",
       "1       1              I moved from SSE to British Gas be...   \n",
       "2       1              There engineers  were rude and sur...   \n",
       "3       1              Firstly the App never works and th...   \n",
       "4       1              Conned me left right and centre. B...   \n",
       "\n",
       "                            date sentiment  \n",
       "0  2018-07-09T17:56:48.000+00:00  Negative  \n",
       "1  2018-07-09T09:38:39.000+00:00  Negative  \n",
       "2  2018-07-09T07:17:10.000+00:00  Negative  \n",
       "3  2018-07-06T15:09:05.000+00:00  Negative  \n",
       "4  2018-07-05T15:02:28.000+00:00  Negative  "
      ]
     },
     "execution_count": 8,
     "metadata": {},
     "output_type": "execute_result"
    }
   ],
   "source": [
    "# checking the first 5 rows after categorising\n",
    "BG_df.head()"
   ]
  },
  {
   "cell_type": "markdown",
   "metadata": {},
   "source": [
    "Note that the dates are in different versions. Let us standardise this first before proceeding with the other cleaning."
   ]
  },
  {
   "cell_type": "code",
   "execution_count": 9,
   "metadata": {},
   "outputs": [],
   "source": [
    "# function to standardise date\n",
    "def standardise_date(df):\n",
    "    df['date'] = [x[0:10] for x in df['date']]\n",
    "    df['date'] = pd.to_datetime(df['date']).apply(lambda x:x.strftime('%d/%m/%Y'))"
   ]
  },
  {
   "cell_type": "code",
   "execution_count": 10,
   "metadata": {},
   "outputs": [
    {
     "data": {
      "text/html": [
       "<div>\n",
       "<style scoped>\n",
       "    .dataframe tbody tr th:only-of-type {\n",
       "        vertical-align: middle;\n",
       "    }\n",
       "\n",
       "    .dataframe tbody tr th {\n",
       "        vertical-align: top;\n",
       "    }\n",
       "\n",
       "    .dataframe thead th {\n",
       "        text-align: right;\n",
       "    }\n",
       "</style>\n",
       "<table border=\"1\" class=\"dataframe\">\n",
       "  <thead>\n",
       "    <tr style=\"text-align: right;\">\n",
       "      <th></th>\n",
       "      <th>rating</th>\n",
       "      <th>reviews</th>\n",
       "      <th>date</th>\n",
       "      <th>sentiment</th>\n",
       "    </tr>\n",
       "  </thead>\n",
       "  <tbody>\n",
       "    <tr>\n",
       "      <th>0</th>\n",
       "      <td>1</td>\n",
       "      <td>Hive engineer failed to show twice...</td>\n",
       "      <td>09/07/2018</td>\n",
       "      <td>Negative</td>\n",
       "    </tr>\n",
       "    <tr>\n",
       "      <th>1</th>\n",
       "      <td>1</td>\n",
       "      <td>I moved from SSE to British Gas be...</td>\n",
       "      <td>09/07/2018</td>\n",
       "      <td>Negative</td>\n",
       "    </tr>\n",
       "    <tr>\n",
       "      <th>2</th>\n",
       "      <td>1</td>\n",
       "      <td>There engineers  were rude and sur...</td>\n",
       "      <td>09/07/2018</td>\n",
       "      <td>Negative</td>\n",
       "    </tr>\n",
       "    <tr>\n",
       "      <th>3</th>\n",
       "      <td>1</td>\n",
       "      <td>Firstly the App never works and th...</td>\n",
       "      <td>06/07/2018</td>\n",
       "      <td>Negative</td>\n",
       "    </tr>\n",
       "    <tr>\n",
       "      <th>4</th>\n",
       "      <td>1</td>\n",
       "      <td>Conned me left right and centre. B...</td>\n",
       "      <td>05/07/2018</td>\n",
       "      <td>Negative</td>\n",
       "    </tr>\n",
       "  </tbody>\n",
       "</table>\n",
       "</div>"
      ],
      "text/plain": [
       "   rating                                            reviews        date  \\\n",
       "0       1              Hive engineer failed to show twice...  09/07/2018   \n",
       "1       1              I moved from SSE to British Gas be...  09/07/2018   \n",
       "2       1              There engineers  were rude and sur...  09/07/2018   \n",
       "3       1              Firstly the App never works and th...  06/07/2018   \n",
       "4       1              Conned me left right and centre. B...  05/07/2018   \n",
       "\n",
       "  sentiment  \n",
       "0  Negative  \n",
       "1  Negative  \n",
       "2  Negative  \n",
       "3  Negative  \n",
       "4  Negative  "
      ]
     },
     "execution_count": 10,
     "metadata": {},
     "output_type": "execute_result"
    }
   ],
   "source": [
    "# standardising date and checking\n",
    "standardise_date(BG_df)\n",
    "BG_df.head()"
   ]
  },
  {
   "cell_type": "markdown",
   "metadata": {},
   "source": [
    "The dates seem fine now. Next, let us check if there's any missing value within our data sets. Note that Pandas classify missing value as NaN. If there are any, we would need to either omit the row or perform some imputation."
   ]
  },
  {
   "cell_type": "code",
   "execution_count": 11,
   "metadata": {},
   "outputs": [
    {
     "data": {
      "text/plain": [
       "rating       False\n",
       "reviews      False\n",
       "date         False\n",
       "sentiment    False\n",
       "dtype: bool"
      ]
     },
     "execution_count": 11,
     "metadata": {},
     "output_type": "execute_result"
    }
   ],
   "source": [
    "# checking NaN values for BG_df\n",
    "BG_df.isna().any()"
   ]
  },
  {
   "cell_type": "markdown",
   "metadata": {},
   "source": [
    "There are no missing values, thus we continue our pre-processing with the first process of text pre-processing, tokenisation, which is essentially breaking down the documents into smaller pieces."
   ]
  },
  {
   "cell_type": "code",
   "execution_count": 12,
   "metadata": {},
   "outputs": [
    {
     "data": {
      "text/plain": [
       "['I', 'liked', 'British', 'Gas', \"'s\", 'price', '.']"
      ]
     },
     "execution_count": 12,
     "metadata": {},
     "output_type": "execute_result"
    }
   ],
   "source": [
    "# testing tokenization\n",
    "text_test = \"I liked British Gas's price.\"\n",
    "token_test = word_tokenize(text_test)\n",
    "token_test"
   ]
  },
  {
   "cell_type": "code",
   "execution_count": 13,
   "metadata": {},
   "outputs": [],
   "source": [
    "# function to tokenise review texts\n",
    "def tokenise(df):\n",
    "    df['tokens'] = df['reviews'].str.lower().apply(word_tokenize)"
   ]
  },
  {
   "cell_type": "code",
   "execution_count": 14,
   "metadata": {},
   "outputs": [
    {
     "data": {
      "text/html": [
       "<div>\n",
       "<style scoped>\n",
       "    .dataframe tbody tr th:only-of-type {\n",
       "        vertical-align: middle;\n",
       "    }\n",
       "\n",
       "    .dataframe tbody tr th {\n",
       "        vertical-align: top;\n",
       "    }\n",
       "\n",
       "    .dataframe thead th {\n",
       "        text-align: right;\n",
       "    }\n",
       "</style>\n",
       "<table border=\"1\" class=\"dataframe\">\n",
       "  <thead>\n",
       "    <tr style=\"text-align: right;\">\n",
       "      <th></th>\n",
       "      <th>rating</th>\n",
       "      <th>reviews</th>\n",
       "      <th>date</th>\n",
       "      <th>sentiment</th>\n",
       "      <th>tokens</th>\n",
       "    </tr>\n",
       "  </thead>\n",
       "  <tbody>\n",
       "    <tr>\n",
       "      <th>0</th>\n",
       "      <td>1</td>\n",
       "      <td>Hive engineer failed to show twice...</td>\n",
       "      <td>09/07/2018</td>\n",
       "      <td>Negative</td>\n",
       "      <td>[hive, engineer, failed, to, show, twice, afte...</td>\n",
       "    </tr>\n",
       "    <tr>\n",
       "      <th>1</th>\n",
       "      <td>1</td>\n",
       "      <td>I moved from SSE to British Gas be...</td>\n",
       "      <td>09/07/2018</td>\n",
       "      <td>Negative</td>\n",
       "      <td>[i, moved, from, sse, to, british, gas, becaus...</td>\n",
       "    </tr>\n",
       "    <tr>\n",
       "      <th>2</th>\n",
       "      <td>1</td>\n",
       "      <td>There engineers  were rude and sur...</td>\n",
       "      <td>09/07/2018</td>\n",
       "      <td>Negative</td>\n",
       "      <td>[there, engineers, were, rude, and, surely.3, ...</td>\n",
       "    </tr>\n",
       "    <tr>\n",
       "      <th>3</th>\n",
       "      <td>1</td>\n",
       "      <td>Firstly the App never works and th...</td>\n",
       "      <td>06/07/2018</td>\n",
       "      <td>Negative</td>\n",
       "      <td>[firstly, the, app, never, works, and, the, pe...</td>\n",
       "    </tr>\n",
       "    <tr>\n",
       "      <th>4</th>\n",
       "      <td>1</td>\n",
       "      <td>Conned me left right and centre. B...</td>\n",
       "      <td>05/07/2018</td>\n",
       "      <td>Negative</td>\n",
       "      <td>[conned, me, left, right, and, centre, ., been...</td>\n",
       "    </tr>\n",
       "  </tbody>\n",
       "</table>\n",
       "</div>"
      ],
      "text/plain": [
       "   rating                                            reviews        date  \\\n",
       "0       1              Hive engineer failed to show twice...  09/07/2018   \n",
       "1       1              I moved from SSE to British Gas be...  09/07/2018   \n",
       "2       1              There engineers  were rude and sur...  09/07/2018   \n",
       "3       1              Firstly the App never works and th...  06/07/2018   \n",
       "4       1              Conned me left right and centre. B...  05/07/2018   \n",
       "\n",
       "  sentiment                                             tokens  \n",
       "0  Negative  [hive, engineer, failed, to, show, twice, afte...  \n",
       "1  Negative  [i, moved, from, sse, to, british, gas, becaus...  \n",
       "2  Negative  [there, engineers, were, rude, and, surely.3, ...  \n",
       "3  Negative  [firstly, the, app, never, works, and, the, pe...  \n",
       "4  Negative  [conned, me, left, right, and, centre, ., been...  "
      ]
     },
     "execution_count": 14,
     "metadata": {},
     "output_type": "execute_result"
    }
   ],
   "source": [
    "# tokenise both data sets\n",
    "tokenise(BG_df)\n",
    "BG_df.head()"
   ]
  },
  {
   "cell_type": "markdown",
   "metadata": {},
   "source": [
    "After tokenisation, we then proceed with stop words and punctuation removals. Stop words are common words that often do not add value in our classifier."
   ]
  },
  {
   "cell_type": "code",
   "execution_count": 15,
   "metadata": {},
   "outputs": [
    {
     "name": "stdout",
     "output_type": "stream",
     "text": [
      "{'}', 'himself', 'myself', 'y', 'the', 'we', 'in', '#', 'until', 'below', 'those', 'these', 'shan', '\\\\', 'few', 'than', 'don', ':', 'my', 'between', 'won', 'they', \"you've\", '>', 'just', 'hasn', 'will', '\"', 'both', 'their', '~', 'an', 'down', 'of', '`', 'with', 'o', 'its', 'itself', 'when', 'some', 'other', '_', 'are', 'she', 'have', '*', 've', 'a', 'each', 'he', 'after', 'to', 'where', 'mustn', 'wasn', 'weren', '%', 'through', 'hadn', '.', 'what', 'at', 'too', 'yours', 'then', 'further', 'am', 'did', \"you'd\", 'for', '(', 'that', 'theirs', 'has', \"'\", 'i', 'you', 'about', \"you're\", 'me', 'her', 'ma', \"that'll\", 'had', 'couldn', 'ourselves', 'and', '@', \"it's\", 'been', 'as', 'no', 'aren', ',', '/', 'themselves', 'while', 'how', 'all', 'haven', 'hers', '!', 'him', 'any', 'before', '+', '-', 'out', 'having', 'most', 'being', 'll', 'during', 'whom', 'isn', 'be', 'own', 'doesn', 'shouldn', 'herself', 'was', ']', '’', 'his', '{', 'this', 'mightn', 'doing', 'very', 'more', 'can', 'our', 's', 'didn', 'wouldn', 'by', 'only', 'd', 'but', '<', 'needn', 'or', 'do', ')', 'because', '=', 'yourselves', 'were', 'does', \"you'll\", 't', 'nor', '?', 'which', '^', 'once', 're', 'm', 'them', 'up', \"she's\", 'from', '|', 'if', 'into', '[', 'ours', 'who', 'so', 'your', 'here', 'should', 'there', ';', 'above', '&', 'is', 'such', '$', 'ain', 'now', 'it', 'yourself'}\n"
     ]
    }
   ],
   "source": [
    "# list of stop words and punctuations to remove\n",
    "sent_stops = ['not', 'again', 'against', \"aren't\", \"couldn't\", \"didn't\", \"doesn't\", \"don't\", \"hadn't\", \"hasn't\", \"haven't\", \"isn't\",\n",
    "              \"mightn't\", \"mustn't\", \"needn't\", 'not', 'off', 'on', 'over', 'same', \"shan't\", \"should've\", \"shouldn't\", 'under', \n",
    "              \"wasn't\", \"weren't\", \"why\", \"won't\", \"wouldn't\"]\n",
    "stops = set(stopwords.words('english')) - set(sent_stops) | set(string.punctuation + '’')\n",
    "#print(stops)"
   ]
  },
  {
   "cell_type": "code",
   "execution_count": 16,
   "metadata": {},
   "outputs": [],
   "source": [
    "punctuations = list(string.punctuation)\n",
    "\n",
    "# function to remove stop words and punctuations\n",
    "def stops_removal(df):\n",
    "    df['tokens'] = df['tokens'].apply(lambda x: [word for word in x if word not in stops])\n",
    "    df['tokens'] = df['tokens'].apply(lambda x: [i.strip(\"\".join(punctuations)) for i in x if i not in punctuations]) # strip punctuation from tokens\n",
    "    df['tokens'] = df['tokens'].apply(lambda x: [word for word in x if word]) # remove whitespace strings from token lists\n",
    "    return df"
   ]
  },
  {
   "cell_type": "markdown",
   "metadata": {},
   "source": [
    "Next, we proceed with the two processes of text normalisation, stemming and lemmatisation. Stemming has its advantage in terms of its speed and scalability while lemmatisation would provide a more accurate word normalisation and improve understandability. "
   ]
  },
  {
   "cell_type": "code",
   "execution_count": 17,
   "metadata": {},
   "outputs": [],
   "source": [
    "# function to stem words\n",
    "def stemming(df):\n",
    "    stemmer = SnowballStemmer('english') # English Snowball Stemmer\n",
    "    df['tokens'] = df['tokens'].apply(lambda x: [stemmer.stem(word) for word in x])\n",
    "    return df\n",
    "\n",
    "# function to lemmatise words\n",
    "def lemmatise(df):\n",
    "    lemmatiser = WordNetLemmatizer()\n",
    "    df['tokens'] = pos_tag_sents(df['tokens']) # get treebank POS for each word\n",
    "    \n",
    "    # function to map treebank POS tag to WordNet POS tag\n",
    "    def get_wordnet_pos(treebank_tag): \n",
    "        if treebank_tag.startswith('J'):\n",
    "            return wordnet.ADJ\n",
    "        elif treebank_tag.startswith('V'):\n",
    "            return wordnet.VERB\n",
    "        elif treebank_tag.startswith('N'):\n",
    "            return wordnet.NOUN\n",
    "        elif treebank_tag.startswith('R'):\n",
    "            return wordnet.ADV\n",
    "        else:\n",
    "            return ''\n",
    "    \n",
    "    df['tokens'] = df['tokens'].apply(lambda x: [(word, get_wordnet_pos(tree)) for (word, tree) in x], 1) # Change to WordNet POS\n",
    "    df['tokens'] = df['tokens'].apply(lambda x: [lemmatiser.lemmatize(word, pos=pos if pos else 'n') for (word, pos) in x]) # lemmatise based on WordNet POS\n",
    "    return df"
   ]
  },
  {
   "cell_type": "markdown",
   "metadata": {
    "collapsed": true
   },
   "source": [
    "Next, before proceeding with feature extraction, we plot the frequency distribution for bigrams and unigrams (words). This gives us a picture of how the word counts are segregrated. "
   ]
  },
  {
   "cell_type": "code",
   "execution_count": 18,
   "metadata": {},
   "outputs": [
    {
     "data": {
      "image/png": "[encoded data removed]",
      "text/plain": [
       "<Figure size 1440x1080 with 1 Axes>"
      ]
     },
     "metadata": {},
     "output_type": "display_data"
    }
   ],
   "source": [
    "# commenting to speed loading in classification.ipynb\n",
    "# # plot customisations\n",
    "# fig = plt.figure(figsize=(20, 15))\n",
    "# ax = fig.add_subplot(111)\n",
    "# ax.grid()\n",
    "# ax.set_xlabel('')\n",
    "# ax.set_ylabel('Frequency', fontsize=20)\n",
    "# ax.tick_params(axis='y', which='major', labelsize=15)\n",
    "# ax.set_title(\"Frequency Distribution for Bigrams in BG_df\", fontsize=25)\n",
    "\n",
    "# # plot bigram frequency distribution to find the optimal value of n for BG_df\n",
    "# tokens_BG = BG_df['tokens'].sum() # add all tokens\n",
    "# bigram_BG = list(bigrams(tokens_BG)) # create all bigrams\n",
    "# bigram_BG = FreqDist(bigram_BG)\n",
    "# del bigram_BG[('british', 'gas')] # remove 'british gas' as it's an outlier and skews the plot\n",
    "\n",
    "# # frequency of count of word over total words (normalisation)\n",
    "# total_bigram_BG = bigram_BG.N()\n",
    "# for bigram in bigram_BG:\n",
    "#     bigram_BG[bigram] /= float(total_bigram_BG)\n",
    "\n",
    "# bigram_BG.plot(100, cumulative=False)"
   ]
  },
  {
   "cell_type": "code",
   "execution_count": 19,
   "metadata": {},
   "outputs": [
    {
     "data": {
      "image/png": "[encoded data removed]",
      "text/plain": [
       "<Figure size 1440x1080 with 1 Axes>"
      ]
     },
     "metadata": {},
     "output_type": "display_data"
    }
   ],
   "source": [
    "# commenting to speed loading in classification.ipynb\n",
    "# # plot customisations\n",
    "# fig = plt.figure(figsize=(20, 15))\n",
    "# ax = fig.add_subplot(111)\n",
    "# ax.grid()\n",
    "# ax.set_xlabel('')\n",
    "# ax.set_ylabel('Frequency', fontsize=20)\n",
    "# ax.tick_params(axis='y', which='major', labelsize=15)\n",
    "# ax.set_title(\"Frequency Distribution for Words in BG_df\", fontsize=25)\n",
    "\n",
    "# # plot words frequency distribution to find the optimal value of n for BG_df\n",
    "# words_BG = BG_df['tokens'].sum()\n",
    "# words_BG = FreqDist(words_BG)\n",
    "\n",
    "# # frequency of count of word over total words (normalisation)\n",
    "# total_words_BG = words_BG.N()\n",
    "# for word in words_BG:\n",
    "#     words_BG[word] /= float(total_words_BG)\n",
    "\n",
    "# words_BG.plot(100, cumulative=False)"
   ]
  },
  {
   "cell_type": "markdown",
   "metadata": {},
   "source": [
    "From the two plots, it seems that our corpus is top heavy where only around 30 words or bigrams are dominant. \n",
    "\n",
    "There might be alot of words within our corpus, but majority of them would yield only small information in classifying especially since our data set is top heavy. One technique that can be use in feature creation is feature selection where we use only the most significant words, words with high information gain values. This reduces the dimension of our data and would provide a better result. This is performed by using the chi-square test as the metric to find words with high semantic contents.\n",
    "\n",
    "First, let's look at the total number of words in BG_df."
   ]
  },
  {
   "cell_type": "code",
   "execution_count": 20,
   "metadata": {},
   "outputs": [
    {
     "name": "stdout",
     "output_type": "stream",
     "text": [
      "BG: 386459 words, with an average of 109 words per review.\n"
     ]
    }
   ],
   "source": [
    "# total number of words in BG_df\n",
    "word_BG = len(BG_df['tokens'].sum())\n",
    "# print('BG: %d words, with an average of %d words per review.' % (word_BG, word_BG/3519))"
   ]
  },
  {
   "cell_type": "markdown",
   "metadata": {},
   "source": [
    "Next, we use the chi-square test to find n most significant words within our BG_df. We expect the optimal value of n to be 30 based on the plots above."
   ]
  },
  {
   "cell_type": "code",
   "execution_count": 21,
   "metadata": {},
   "outputs": [],
   "source": [
    "freq_dist = FreqDist()\n",
    "cond_freq = ConditionalFreqDist()\n",
    "\n",
    "# function to find most informative or significant words \n",
    "def informative_words(df, n):\n",
    "    neg_tokens = df[df['sentiment'] == 'Positive']['tokens'].sum()\n",
    "    pos_tokens = df[df['sentiment'] == 'Negative']['tokens'].sum()\n",
    "\n",
    "    for word in neg_tokens:\n",
    "        freq_dist[word] += 1\n",
    "        cond_freq['Positive'][word] += 1\n",
    "\n",
    "    for word in pos_tokens :\n",
    "        freq_dist[word] += 1\n",
    "        cond_freq['Negative'][word] += 1\n",
    "    \n",
    "    neg_words = cond_freq['Negative'].N()\n",
    "    pos_words = cond_freq['Positive'].N()\n",
    "    \n",
    "    total_words = neg_words + pos_words\n",
    " \n",
    "    words_scores = {}\n",
    " \n",
    "    for word, freq in freq_dist.items():\n",
    "        neg_score = BigramAssocMeasures.chi_sq(cond_freq['Negative'][word],\n",
    "            (freq, neg_words), total_words)\n",
    "        pos_score = BigramAssocMeasures.chi_sq(cond_freq['Positive'][word],\n",
    "            (freq, pos_words), total_words)\n",
    "        \n",
    "        words_scores[word] = pos_score + neg_score\n",
    "\n",
    "    informative = sorted(words_scores.items(), key=lambda x: x[1], reverse=True)[:n]\n",
    "    inform_words = set([t for t, x in informative]) # change to set\n",
    "    \n",
    "    return inform_words"
   ]
  },
  {
   "cell_type": "markdown",
   "metadata": {},
   "source": [
    "Our last step in the pre-processing is feature extraction for our classifier model. Our features would be unigrams or a combination of most significant unigrams and bigrams. The functions below are used to extract the features which in its base model is the availability of the word within the document."
   ]
  },
  {
   "cell_type": "code",
   "execution_count": 22,
   "metadata": {},
   "outputs": [],
   "source": [
    "# function to create only unigrams features\n",
    "def unigram_features(words):\n",
    "    return dict([(word, True) for word in words])\n",
    "\n",
    "# function to create unigrams and bigrams features\n",
    "def bigram_features(words, score_fn=BigramAssocMeasures.chi_sq, b=30):\n",
    "    bigram_finder = BigramCollocationFinder.from_words(words)\n",
    "    bigrams = bigram_finder.nbest(score_fn, b)\n",
    "    return dict([(ngram, True) for ngram in itertools.chain(words, bigrams)])"
   ]
  },
  {
   "cell_type": "code",
   "execution_count": 23,
   "metadata": {},
   "outputs": [],
   "source": [
    "# function to create unigrams features from most significant unigrams\n",
    "def informative_word_features(words):\n",
    "    return dict([(word, True) for word in words if word in inform_words])\n",
    "\n",
    "# function to create unigrams and bigrams features from most significant unigrams and bigrams\n",
    "def informative_word_bigram_features(words, score_fn=BigramAssocMeasures.chi_sq, b=30):\n",
    "    bigram_finder = BigramCollocationFinder.from_words(words)\n",
    "    bigrams = bigram_finder.nbest(score_fn, b)\n",
    "    d = dict([(bigram, True) for bigram in bigrams])\n",
    "    d.update(informative_word_features(words))\n",
    "    return d"
   ]
  },
  {
   "cell_type": "code",
   "execution_count": 24,
   "metadata": {},
   "outputs": [],
   "source": [
    "# function to create features based on df, feature function and polarity\n",
    "def feature_extract(df, feature_function, polarity):\n",
    "    reviews = df[df['sentiment'] == polarity]['tokens']\n",
    "    \n",
    "    features = []\n",
    "    for f in reviews:\n",
    "        try:\n",
    "            features.append((feature_function(f), polarity))\n",
    "        except:\n",
    "            continue\n",
    "    \n",
    "    return features"
   ]
  },
  {
   "cell_type": "code",
   "execution_count": 25,
   "metadata": {},
   "outputs": [],
   "source": [
    "# removing a bug where the repeating words caused an error in feature_extract\n",
    "# token at BG_df[375] replaced from ['scammers', 'scammers', 'scammers'] to ['scammers']\n",
    "BG_df.at[375, 'tokens'] = ['scammers']"
   ]
  },
  {
   "cell_type": "markdown",
   "metadata": {},
   "source": [
    "Since the text normalisation part affects the final features, we create two different data frames depending on the text pre-processing techniques that have been applied for testing purposes. One data frame is stemmed while the other is lemmatised. "
   ]
  },
  {
   "cell_type": "code",
   "execution_count": 26,
   "metadata": {},
   "outputs": [],
   "source": [
    "# The list of functions are as follow:\n",
    "# stops_removal() - removing stop words and punctuations\n",
    "# stemming()      - stemming the words\n",
    "# lemmatise()     - lemmatise the words\n",
    "\n",
    "# Stemming BG_df\n",
    "BG_stem = BG_df.copy() # copy original df to keep it intact\n",
    "BG_stem = stops_removal(BG_stem)\n",
    "BG_stem = stemming(BG_stem)\n",
    "\n",
    "# lemmatising BG_df\n",
    "BG_lemma = BG_df.copy() # copy original df to keep it intact\n",
    "BG_lemma = stops_removal(BG_lemma)\n",
    "BG_lemma = lemmatise(BG_lemma)"
   ]
  },
  {
   "cell_type": "markdown",
   "metadata": {},
   "source": [
    "The difference between stemming and lemmatisation is shown below. The example is taken from the first review in the data set."
   ]
  },
  {
   "cell_type": "code",
   "execution_count": 27,
   "metadata": {},
   "outputs": [
    {
     "name": "stdout",
     "output_type": "stream",
     "text": [
      "['hive', 'engin', 'fail', 'show', 'twice', 'taken', 'two', 'day', 'off', 'work', 'get', 'hive', 'instal', 'british', 'gas', 'employe', 'give', 'monkey', 'suppos', 'sharehold', 'suffer', 'engin', 'not', 'show', 'twice', 'decid', 'cancel', 'boiler', 'care', 'applianc', 'cover', 'well', 'cancel', 'hive', 'contract', 'sum', '£110', 'month', 'lost', 'give', 'money', 'someon', 'want', 'honest', 'guy', 'great', 'year', 'back', 'mediocr', 'best', 'hell', 'happen']\n"
     ]
    }
   ],
   "source": [
    "# stemmed tokens\n",
    "# print(BG_stem['tokens'][0])"
   ]
  },
  {
   "cell_type": "code",
   "execution_count": 28,
   "metadata": {},
   "outputs": [
    {
     "name": "stdout",
     "output_type": "stream",
     "text": [
      "['hive', 'engineer', 'fail', 'show', 'twice', 'take', 'two', 'day', 'off', 'work', 'get', 'hive', 'installed', 'british', 'gas', 'employee', 'give', 'monkey', 'suppose', 'shareholder', 'suffer', 'engineer', 'not', 'show', 'twice', 'decide', 'cancel', 'boiler', 'care', 'appliance', 'cover', 'well', 'cancel', 'hive', 'contract', 'sum', '£110', 'month', 'lose', 'give', 'money', 'someone', 'want', 'honestly', 'guys', 'great', 'year', 'back', 'mediocre', 'best', 'hell', 'happen']\n"
     ]
    }
   ],
   "source": [
    "# lemmatised tokens\n",
    "# print(BG_lemma['tokens'][0])"
   ]
  },
  {
   "cell_type": "code",
   "execution_count": 29,
   "metadata": {},
   "outputs": [
    {
     "name": "stdout",
     "output_type": "stream",
     "text": [
      "There are 2 data frames to be used for classification:\n",
      "BG_stem\n",
      "BG_lemma\n",
      "\n",
      "There are 4 feature extraction methods:\n",
      "unigram_features:                   all words\n",
      "bigram_features:                    all words and most significant bigrams\n",
      "informative_word_features:          most significant words only\n",
      "informative_word_bigram_features:   most significant words and bigrams\n"
     ]
    }
   ],
   "source": [
    "# print the data frames to be used in classifier.ipynb\n",
    "BG_list = ['BG_stem', 'BG_lemma']\n",
    "\n",
    "# naming all df for future use\n",
    "BG_stem.name = 'BG_stem'\n",
    "BG_lemma.name = 'BG_lemma'\n",
    "\n",
    "\n",
    "print('There are 2 data frames to be used for classification:')\n",
    "for df in BG_list:\n",
    "    print(df)\n",
    "        \n",
    "print('\\nThere are 4 feature extraction methods:')\n",
    "print('unigram_features:                   all words')\n",
    "print('bigram_features:                    all words and most significant bigrams')\n",
    "print('informative_word_features:          most significant words only')\n",
    "print('informative_word_bigram_features:   most significant words and bigrams')"
   ]
  },
  {
   "cell_type": "markdown",
   "metadata": {},
   "source": [
    "The features are then extracted from the data frames in classifier.ipynb and sentiment classification is performed then."
   ]
  }
 ],
 "metadata": {
  "kernelspec": {
   "display_name": "Python 3",
   "language": "python",
   "name": "python3"
  },
  "language_info": {
   "codemirror_mode": {
    "name": "ipython",
    "version": 3
   },
   "file_extension": ".py",
   "mimetype": "text/x-python",
   "name": "python",
   "nbconvert_exporter": "python",
   "pygments_lexer": "ipython3",
   "version": "3.6.5"
  }
 },
 "nbformat": 4,
 "nbformat_minor": 2
}
